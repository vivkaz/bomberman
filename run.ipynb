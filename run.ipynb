{
 "cells": [
  {
   "cell_type": "code",
   "execution_count": null,
   "id": "471ad899",
   "metadata": {},
   "outputs": [],
   "source": []
  },
  {
   "cell_type": "code",
   "execution_count": 57,
   "id": "c95ca660",
   "metadata": {},
   "outputs": [
    {
     "name": "stdout",
     "output_type": "stream",
     "text": [
      "size of dictionary: 70\n",
      " 10%|████▍                                       | 1/10 [00:07<01:06,  7.35s/it]/home/vivi/uni/bomberman/agent_code/q_agent/callbacks.py:311: VisibleDeprecationWarning: Creating an ndarray from ragged nested sequences (which is a list-or-tuple of lists-or-tuples-or ndarrays with different lengths or shapes) is deprecated. If you meant to do this, you must specify 'dtype=object' when creating the ndarray.\n",
      "  if (neighbours[j] == game_state['bombs'][0]).all():\n",
      "100%|███████████████████████████████████████████| 10/10 [00:35<00:00,  3.52s/it]\n"
     ]
    }
   ],
   "source": [
    "!python main.py play --agents q_agent --train 1 --scenario coin-heaven --n-rounds 10"
   ]
  },
  {
   "cell_type": "code",
   "execution_count": 59,
   "id": "bd732e15",
   "metadata": {},
   "outputs": [
    {
     "name": "stdout",
     "output_type": "stream",
     "text": [
      "size of dictionary: 70\n",
      "nonzero rows: 1050\n",
      "size of dictionary: 70\n",
      "nonzero rows: 1050\n",
      "  0%|                                                     | 0/4 [00:00<?, ?it/s]/home/vivi/uni/bomberman/agent_code/q_agent/callbacks.py:341: FutureWarning: elementwise comparison failed; returning scalar instead, but in the future will perform elementwise comparison\n",
      "  if any([(opponent_pos[0] == my_neighbours[0] and opponent_pos[1] == my_neighbours[1]) for neighbour in neighbours]): # opponent is neighbour of agent\n",
      "/home/vivi/uni/bomberman/agent_code/q_agent/callbacks.py:307: VisibleDeprecationWarning: Creating an ndarray from ragged nested sequences (which is a list-or-tuple of lists-or-tuples-or ndarrays with different lengths or shapes) is deprecated. If you meant to do this, you must specify 'dtype=object' when creating the ndarray.\n",
      "  if (neighbours[j] == game_state['bombs'][0]).all():\n",
      "100%|█████████████████████████████████████████████| 4/4 [00:24<00:00,  6.15s/it]\n"
     ]
    }
   ],
   "source": [
    "!python main.py play --agents q_agent q_agent random_agent --scenario classic --n-rounds 4"
   ]
  },
  {
   "cell_type": "code",
   "execution_count": 56,
   "id": "13d5e8f5",
   "metadata": {},
   "outputs": [
    {
     "name": "stdout",
     "output_type": "stream",
     "text": [
      "size of dictionary: 70\n",
      "nonzero rows: 19\n",
      " 33%|███████████████                              | 1/3 [00:06<00:13,  6.88s/it]/home/vivi/uni/bomberman/agent_code/q_agent/callbacks.py:310: VisibleDeprecationWarning: Creating an ndarray from ragged nested sequences (which is a list-or-tuple of lists-or-tuples-or ndarrays with different lengths or shapes) is deprecated. If you meant to do this, you must specify 'dtype=object' when creating the ndarray.\n",
      "  if (neighbours[j] == game_state['bombs'][0]).all():\n",
      "100%|█████████████████████████████████████████████| 3/3 [00:09<00:00,  3.23s/it]\n"
     ]
    }
   ],
   "source": [
    "!python main.py play --agents q_agent --scenario coin-heaven --n-rounds 3"
   ]
  },
  {
   "cell_type": "code",
   "execution_count": 193,
   "id": "11fcf55b",
   "metadata": {},
   "outputs": [
    {
     "name": "stdout",
     "output_type": "stream",
     "text": [
      "size of dictionary: 70\n",
      "nonzero rows: 35\n",
      "  0%|                                                     | 0/2 [00:00<?, ?it/s]/home/vivi/uni/bomberman/agent_code/q_agent/callbacks.py:339: FutureWarning: elementwise comparison failed; returning scalar instead, but in the future will perform elementwise comparison\n",
      "  if any([(opponent_pos[0] == my_neighbours[0] and opponent_pos[1] == my_neighbours[1]) for neighbour in neighbours]): # opponent is neighbour of agent\n",
      "/home/vivi/uni/bomberman/agent_code/q_agent/callbacks.py:305: VisibleDeprecationWarning: Creating an ndarray from ragged nested sequences (which is a list-or-tuple of lists-or-tuples-or ndarrays with different lengths or shapes) is deprecated. If you meant to do this, you must specify 'dtype=object' when creating the ndarray.\n",
      "  if (neighbours[j] == game_state['bombs'][0]).all():\n",
      "100%|█████████████████████████████████████████████| 2/2 [00:15<00:00,  7.55s/it]\n"
     ]
    }
   ],
   "source": [
    "!python main.py play --agents q_agent random_agent rule_based_agent --scenario coin-heaven --n-rounds 2"
   ]
  },
  {
   "cell_type": "code",
   "execution_count": 194,
   "id": "ece65581",
   "metadata": {},
   "outputs": [
    {
     "name": "stdout",
     "output_type": "stream",
     "text": [
      "size of dictionary: 70\n",
      "nonzero rows: 35\n",
      "  0%|                                                     | 0/3 [00:04<?, ?it/s]\n"
     ]
    }
   ],
   "source": [
    "!python main.py play --agents q_agent --scenario clean --n-rounds 3"
   ]
  },
  {
   "cell_type": "code",
   "execution_count": null,
   "id": "690d2000",
   "metadata": {},
   "outputs": [],
   "source": [
    "!python main.py play --my_agent q_agent --scenario classic --save-replay "
   ]
  },
  {
   "cell_type": "code",
   "execution_count": null,
   "id": "6a5fae1d",
   "metadata": {},
   "outputs": [],
   "source": [
    "!python main.py replay \"replays/replay.pt\" --turn-based"
   ]
  },
  {
   "cell_type": "code",
   "execution_count": null,
   "id": "2145dea2",
   "metadata": {},
   "outputs": [],
   "source": [
    "reward = np.loadtxt(\"agent_code/q_agent/rewards.txt\",dtype = float)\n",
    "plt.plot(reward,'.')\n",
    "plt.xlabel(\"rounds\")\n",
    "plt.ylabel(\"reward\")\n",
    "#plt.ylim(-100,100)"
   ]
  },
  {
   "cell_type": "code",
   "execution_count": null,
   "id": "d7d9532d",
   "metadata": {},
   "outputs": [],
   "source": []
  },
  {
   "cell_type": "code",
   "execution_count": 3,
   "id": "2e8f6282",
   "metadata": {},
   "outputs": [],
   "source": [
    "import numpy as np\n",
    "import itertools"
   ]
  },
  {
   "cell_type": "code",
   "execution_count": 15,
   "id": "824b0926",
   "metadata": {},
   "outputs": [
    {
     "name": "stdout",
     "output_type": "stream",
     "text": [
      "[[0 0]\n",
      " [0 1]\n",
      " [0 2]\n",
      " [0 3]\n",
      " [0 4]\n",
      " [1 0]\n",
      " [1 1]\n",
      " [1 2]\n",
      " [1 3]\n",
      " [1 4]\n",
      " [2 0]\n",
      " [2 1]\n",
      " [2 2]\n",
      " [2 3]\n",
      " [2 4]] 15\n",
      "size of dictionary: 70\n",
      "dict_keys([(-1, -1, -1, -1), (-1, -1, -1, 0), (-1, -1, -1, 1), (-1, -1, -1, 2), (-1, -1, 0, 0), (-1, -1, 0, 1), (-1, -1, 0, 2), (-1, -1, 1, 0), (-1, -1, 1, 1), (-1, -1, 1, 2), (-1, -1, 2, 0), (-1, -1, 2, 1), (-1, -1, 2, 2), (-1, 0, -1, 0), (-1, 0, -1, 1), (-1, 0, -1, 2), (-1, 0, 0, 0), (-1, 0, 0, 1), (-1, 0, 0, 2), (-1, 0, 1, 0), (-1, 0, 1, 1), (-1, 0, 1, 2), (-1, 0, 2, 0), (-1, 0, 2, 1), (-1, 0, 2, 2), (-1, 1, -1, 1), (-1, 1, -1, 2), (-1, 1, 0, 0), (-1, 1, 0, 1), (-1, 1, 0, 2), (-1, 1, 1, 0), (-1, 1, 1, 1), (-1, 1, 1, 2), (-1, 1, 2, 0), (-1, 1, 2, 1), (-1, 1, 2, 2), (-1, 2, -1, 2), (-1, 2, 0, 0), (-1, 2, 0, 1), (-1, 2, 0, 2), (-1, 2, 1, 0), (-1, 2, 1, 1), (-1, 2, 1, 2), (-1, 2, 2, 0), (-1, 2, 2, 1), (-1, 2, 2, 2), (0, 0, 0, 0), (0, 0, 0, 1), (0, 0, 0, 2), (0, 0, 1, 1), (0, 0, 1, 2), (0, 0, 2, 1), (0, 0, 2, 2), (0, 1, 0, 1), (0, 1, 0, 2), (0, 1, 1, 1), (0, 1, 1, 2), (0, 1, 2, 1), (0, 1, 2, 2), (0, 2, 0, 2), (0, 2, 1, 1), (0, 2, 1, 2), (0, 2, 2, 1), (0, 2, 2, 2), (1, 1, 1, 1), (1, 1, 1, 2), (1, 1, 2, 2), (1, 2, 1, 2), (1, 2, 2, 2), (2, 2, 2, 2)])\n",
      "[array([ 2,  2, -1, -1]), array([ 2, -1, -1,  2]), array([-1, -1,  2,  2]), array([-1,  2,  2, -1])]\n",
      "256\n"
     ]
    }
   ],
   "source": [
    "dic = {}\n",
    "ACTIONS = ['UP', 'RIGHT', 'DOWN', 'LEFT', 'WAIT', 'BOMB']\n",
    "\n",
    "NEIGHBOURING_FIELDS = [-1,0,1,2] # the possible values for neighbouring fields\n",
    "GAME_MODE = [0,1,2] # the possible values for game mode\n",
    "CURRENT_FIELD = [0,1,2,3,4] # the possible values for current filed\n",
    "\n",
    "# rotate clockwise\n",
    "def get_arrangements(array):\n",
    "    #return np.unique([ np.roll(array, -i) for i in range(0,4) ], axis=0)\n",
    "    return [ np.roll(array, -i) for i in range(0,4) ]\n",
    "    \n",
    "# get all possible combinations\n",
    "def get_variations(array, r=4):\n",
    "    #return np.unique([ item for item in list(itertools.product(array, repeat=r)) ], axis=0)\n",
    "    return [ item for item in list(itertools.product(array, repeat=r)) ]\n",
    "\n",
    "# compute state to index for the Q-table\n",
    "def build_state_to_index(arr1 = NEIGHBOURING_FIELDS, arr2 = GAME_MODE, arr3 = CURRENT_FIELD):\n",
    "    i = 0\n",
    "    perm = get_variations(arr1)\n",
    "    comb = np.array(np.meshgrid(arr2, arr3)).T.reshape(-1,2) # combinations of arr2 and arr3\n",
    "    print(comb, len(comb))\n",
    "    step = len(comb)\n",
    "    for p in perm:\n",
    "        already_there = []\n",
    "        arrangements = get_arrangements(p)\n",
    "        for a in arrangements:\n",
    "            if tuple(a) in dic.keys():\n",
    "                already_there.append(True)\n",
    "            else:\n",
    "                already_there.append(False)\n",
    "        if sum(already_there) == 0: # p not in dictionary\n",
    "            value = [v for v in range(i, i+step)] # value indices for p\n",
    "            i += step # update i\n",
    "            dic.update({tuple(p) : value}) # add in dictionary\n",
    "            \n",
    "def get_state_index(state):\n",
    "    arrangements = get_arrangements(state[-4:]) # rotations of neighbouring fields\n",
    "    mode_and_field = state[:2]\n",
    "    value_index = 0\n",
    "    comb = np.array(np.meshgrid(GAME_MODE, CURRENT_FIELD)).T.reshape(-1,2)\n",
    "    for i, c in enumerate(comb):\n",
    "        if (c == mode_and_field).all():\n",
    "            value_index = i\n",
    "            break\n",
    "    for j, a in enumerate(arrangements):\n",
    "        if tuple(a) in dic.keys():\n",
    "            #print(\"state: \", state, \"index\", dic[tuple(a)][value_index])\n",
    "            return dic[tuple(a)][value_index], j\n",
    "        else:\n",
    "            continue\n",
    "\n",
    "                \n",
    "build_state_to_index()\n",
    "\n",
    "print(f\"size of dictionary: {len(dic)}\")\n",
    "\n",
    "print(dic.keys())\n",
    "\n",
    "#print(dic[tuple([2,  2, -1, -1])])\n",
    "#print(dic[tuple([2 ,-1 ,-1 , 2])])\n",
    "\n",
    "print(get_arrangements([2,  2, -1, -1]))\n",
    "#print(get_arrangements([1, -1, -1 ,1]))\n",
    "#print(get_state_index([ 2,  3,  1, -1, -1 , 1]))\n",
    "print(len(get_variations(NEIGHBOURING_FIELDS)))"
   ]
  },
  {
   "cell_type": "code",
   "execution_count": 23,
   "id": "4b63e715",
   "metadata": {},
   "outputs": [],
   "source": [
    "model_trained = np.load(\"agent_code/q_agent/my-saved-model.npy\")"
   ]
  },
  {
   "cell_type": "code",
   "execution_count": 24,
   "id": "53ec5161",
   "metadata": {},
   "outputs": [
    {
     "name": "stdout",
     "output_type": "stream",
     "text": [
      "190 0 190 3\n",
      "[-77.14352453 -78.49698771 -61.17325969 -73.70228508 -49.98128351\n",
      " -58.89993109]\n"
     ]
    }
   ],
   "source": [
    "state1 = [2,0,-1,-1,2,2]\n",
    "state2 = [2,0,-1,2,2,-1]\n",
    "\n",
    "i1, r1 = get_state_index(state1)\n",
    "i2, r2 = get_state_index(state2)\n",
    "print(i1, r1, i2, r2)\n",
    "\n",
    "print(model_trained[i1])"
   ]
  },
  {
   "cell_type": "code",
   "execution_count": 43,
   "id": "ba28011c",
   "metadata": {},
   "outputs": [
    {
     "name": "stdout",
     "output_type": "stream",
     "text": [
      "[array([0, 1]), array([1, 2]), array([2, 1]), array([1, 0])]\n",
      "[17 14]\n",
      "False\n"
     ]
    }
   ],
   "source": [
    "pos = (1,1)\n",
    "sub = [(1,0), (0,-1), (-1,0), (0,1)] # left, down, right, up\n",
    "neighbours = []\n",
    "for i in sub:\n",
    "    neighbour = np.subtract(pos, i)\n",
    "    if (0 <= neighbour[0] < 17) and (0 <= neighbour[1] < 17): # check if in game borders\n",
    "        neighbours.append(neighbour)\n",
    "print(neighbours)\n",
    "\n",
    "a = (17, 14)\n",
    "print(np.array(a))\n",
    "r = [[12, 14], [13 ,14], [14 ,14], [12, 15], [13, 15], [14, 15], [12, 16], [13, 16], [14, 16]]\n",
    "print((len(list(filter (lambda x : (x == np.array(a)).all(), r))) > 0))"
   ]
  },
  {
   "cell_type": "code",
   "execution_count": 4,
   "id": "2b93da60",
   "metadata": {},
   "outputs": [
    {
     "name": "stdout",
     "output_type": "stream",
     "text": [
      "[[0 1]\n",
      " [0 2]\n",
      " [0 3]\n",
      " [1 1]\n",
      " [1 2]\n",
      " [1 3]\n",
      " [2 1]\n",
      " [2 2]\n",
      " [2 3]]\n"
     ]
    }
   ],
   "source": [
    "def get_region(my_pos, pos):\n",
    "    if pos[0] == my_pos[0] and pos[1] > my_pos[1]: # up\n",
    "        r1 = np.array([ [pos[0]-1, y] for y in range(pos[1], pos[1]+3) ])\n",
    "        r2 = np.array([ [pos[0], y] for y in range(pos[1], pos[1]+3) ])\n",
    "        r3 = np.array([ [pos[0]+1, y] for y in range(pos[1], pos[1]+3) ])         \n",
    "        r12 = np.concatenate((r1, r2), axis = 0)\n",
    "        return np.append(r12,r3).reshape(-1,2)\n",
    "    elif pos[0] == my_pos[0] and pos[1] < my_pos[1]: # down\n",
    "        r1 = np.array([ [pos[0]-1, y] for y in range(pos[1]-2, pos[1]+1) ])\n",
    "        r2 = np.array([ [pos[0], y] for y in range(pos[1]-2, pos[1]+1) ])\n",
    "        r3 = np.array([ [pos[0]+1, y] for y in range(pos[1]-2, pos[1]+1) ])\n",
    "        r12 = np.concatenate((r1, r2), axis = 0)\n",
    "        return np.append(r12,r3).reshape(-1,2)\n",
    "    elif pos[1] == my_pos[1] and pos[0] > my_pos[0]: # right\n",
    "        r1 = np.array([ [x, pos[1]+1] for x in range(pos[0], pos[0]+3) ])\n",
    "        r2 = np.array([ [x, pos[1]] for x in range(pos[0], pos[0]+3) ])\n",
    "        r3 = np.array([ [x, pos[1]-1] for x in range(pos[0], pos[0]+3) ])\n",
    "        r12 = np.concatenate((r1, r2), axis = 0)\n",
    "        return np.append(r12,r3).reshape(-1,2)\n",
    "    else: # left\n",
    "        r1 = np.array([ [x, pos[1]+1] for x in range(pos[0]-2, pos[0]+1) ])\n",
    "        r2 = np.array([ [x, pos[1]] for x in range(pos[0]-2, pos[0]+1) ])\n",
    "        r3 = np.array([ [x, pos[1]-1] for x in range(pos[0]-2, pos[0]+1) ])\n",
    "        r12 = np.concatenate((r1, r2), axis = 0)\n",
    "        return np.append(r12,r3).reshape(-1,2)\n",
    "    \n",
    "    \n",
    "print(get_region((1,0),(1,1)))"
   ]
  },
  {
   "cell_type": "code",
   "execution_count": 116,
   "id": "f15fd015",
   "metadata": {},
   "outputs": [
    {
     "name": "stdout",
     "output_type": "stream",
     "text": [
      "[array([14, 15]), array([15, 14]), array([16, 15]), array([15, 16])] [15 14]\n",
      "True\n"
     ]
    }
   ],
   "source": [
    "a = [0,1]\n",
    "b = [0,1,1,1]\n",
    "#print(get_variations(a))\n",
    "b_ = get_arrangements(b)\n",
    "#for i in b_:\n",
    "#    print(tuple(i))\n",
    "#print(b[-3:])\n",
    "\n",
    "\n",
    "pos = (15,15)    \n",
    "def get_neighbours(pos): # check if in game border ? \n",
    "    sub = [(1,0), (0,1), (-1,0), (0,-1)] # left, down, right, up\n",
    "    neighbours = []\n",
    "    for i in sub:\n",
    "        neighbour = np.subtract(pos, i)\n",
    "        if (0 <= neighbour[0] < 17) and (0 <= neighbour[1] < 17):\n",
    "            neighbours.append(neighbour)\n",
    "    return neighbours\n",
    "\n",
    "n = get_neighbours(pos)\n",
    "print(n, n[1])\n",
    "\n",
    "pos1 = [[15,15], [16,15]]\n",
    "\n",
    "print(any([(pos[0] == i[0] and pos[1] == i[1]) for i in pos1]))"
   ]
  },
  {
   "cell_type": "code",
   "execution_count": null,
   "id": "e2f52518",
   "metadata": {},
   "outputs": [],
   "source": [
    "def check_for_wall(pos, field=game_state['field']):\n",
    "        #if (position >= 17).any() or (position < 0).any():\n",
    "        #    print(\"out of field\")\n",
    "        #    return True\n",
    "        return field[pos[0],pos[1]] == -1 # wall\n",
    "\n",
    "    # get vertical and horizontal region from the position\n",
    "def get_vh_region(pos, n=3):\n",
    "    horizontal = np.array([ [x, pos[1]] for x in range(pos[0]-n, pos[0]+(n+1)) ])\n",
    "    vertical = np.array([ [pos[0], y] for y in range(pos[1]-n, pos[1]+(n+1)) ])\n",
    "    return np.concatenate((vertical, horizontal), axis = 0)"
   ]
  },
  {
   "cell_type": "code",
   "execution_count": 9,
   "id": "ec7443e2",
   "metadata": {},
   "outputs": [],
   "source": [
    "model_trained = np.load(\"agent_code/q_agent/my-saved-model.npy\")"
   ]
  },
  {
   "cell_type": "code",
   "execution_count": null,
   "id": "c9979d22",
   "metadata": {},
   "outputs": [],
   "source": [
    "\n",
    "print(np.shape(model_trained))\n",
    "print(f\"# nonzero rows { sum(np.apply_along_axis(np.any, axis=1, arr=model_trained)) }\")\n",
    "print(model_trained[548])\n",
    "\n",
    "state = [ 0, -1,  2,  2, -1,  2]\n",
    "print(state)\n",
    "index = -1\n",
    "rotation = -1\n",
    "temp = get_arrangements(state[1:5]) # rotations of neighbouring fields\n",
    "mode_and_field = [ state[-1], state[0] ]\n",
    "value_index = 0\n",
    "comb = np.array(np.meshgrid(GAME_MODE, CURRENT_FIELD)).T.reshape(-1,2)\n",
    "for i, c in enumerate(comb):\n",
    "    if (c == mode_and_field).all():\n",
    "        value_index = i\n",
    "        print(value_index)\n",
    "        break\n",
    "rotation = 0\n",
    "for i, t in enumerate(temp):\n",
    "    if (t == state[1:5]).all():\n",
    "        rotation = i\n",
    "        print(rotation)\n",
    "for j, a in enumerate(temp):\n",
    "    if tuple(a) in dic.keys():\n",
    "        #print(\"state: \", state, \"index\", dic[tuple(a)][value_index])\n",
    "        index = dic[tuple(a)][value_index]\n",
    "        print(index)\n",
    "        break\n",
    "        \n",
    "action = np.argmax(model_trained[index]) # Exploit learned values\n",
    "if action < 4 and rotation != 0: # move and rotated state\n",
    "    action = (action + rotation) % 4\n",
    "print(ACTIONS[action])"
   ]
  },
  {
   "cell_type": "code",
   "execution_count": 40,
   "id": "a2f495dc",
   "metadata": {},
   "outputs": [
    {
     "name": "stdout",
     "output_type": "stream",
     "text": [
      "year: 2022\n",
      "month: 03\n",
      "day: 09\n",
      "time: 14:56:48\n",
      "date and time: 14_56_48\n"
     ]
    }
   ],
   "source": [
    "from datetime import datetime\n",
    "\n",
    "now = datetime.now() \n",
    "\n",
    "year = now.strftime(\"%Y\")\n",
    "print(\"year:\", year)\n",
    "\n",
    "month = now.strftime(\"%m\")\n",
    "print(\"month:\", month)\n",
    "\n",
    "day = now.strftime(\"%d\")\n",
    "print(\"day:\", day)\n",
    "\n",
    "time = now.strftime(\"%H:%M:%S\")\n",
    "print(\"time:\", time)\n",
    "\n",
    "date_time = now.strftime(\"%H_%M_%S\")\n",
    "print(\"date and time:\",date_time)"
   ]
  },
  {
   "cell_type": "code",
   "execution_count": 55,
   "id": "50c88f8f",
   "metadata": {},
   "outputs": [
    {
     "name": "stdout",
     "output_type": "stream",
     "text": [
      "5.003371000289917\n"
     ]
    }
   ],
   "source": [
    "import time\n",
    "start = time.time()\n",
    "\n",
    "\n",
    "time.sleep(5)\n",
    "end  = time.time()\n",
    "print(end-start)"
   ]
  }
 ],
 "metadata": {
  "kernelspec": {
   "display_name": "Python 3 (ipykernel)",
   "language": "python",
   "name": "python3"
  },
  "language_info": {
   "codemirror_mode": {
    "name": "ipython",
    "version": 3
   },
   "file_extension": ".py",
   "mimetype": "text/x-python",
   "name": "python",
   "nbconvert_exporter": "python",
   "pygments_lexer": "ipython3",
   "version": "3.8.10"
  }
 },
 "nbformat": 4,
 "nbformat_minor": 5
}
