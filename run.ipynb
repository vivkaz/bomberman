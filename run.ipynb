{
 "cells": [
  {
   "cell_type": "code",
   "execution_count": 123,
   "id": "187b3b50",
   "metadata": {},
   "outputs": [
    {
     "name": "stdout",
     "output_type": "stream",
     "text": [
      "  0%|                                                    | 0/20 [00:00<?, ?it/s]events ['INVALID_ACTION']\n",
      "features [0, 0, -1, -1, 1, 0] \n",
      "\n",
      "features [0, 0, -1, -1, 1, 0] \n",
      "\n",
      "events ['INVALID_ACTION']\n",
      "features [0, 0, -1, -1, 1, 0] \n",
      "\n",
      "features [0, 0, -1, -1, 1, 0] \n",
      "\n",
      "events ['MOVED_UP', 'CRATE_DISTANCE_REDUCED']\n",
      "features [0, 0, -1, -1, 1, 0] \n",
      "\n",
      "features [0, 0, -1, 0, -1, 1] \n",
      "\n",
      "events ['MOVED_UP', 'CRATE_DISTANCE_REDUCED', 'CRATE_FOUND']\n",
      "features [0, 0, -1, 0, -1, 1] \n",
      "\n",
      "features [0, 1, -1, 0, 0, 1] \n",
      "\n",
      "events ['MOVED_DOWN', 'CRATE_DISTANCE_INCREASED', 'CRATE_WITHOUT_DROPPING_BOMB']\n",
      "features [0, 1, -1, 0, 0, 1] \n",
      "\n",
      "features [0, 0, -1, 0, -1, 1] \n",
      "\n",
      "events ['BOMB_DROPPED']\n",
      "features [0, 0, -1, 0, -1, 1] \n",
      "\n",
      "bomb area [[ 1 13]\n",
      " [ 1 12]\n",
      " [ 1 11]\n",
      " [ 1 15]\n",
      " [ 1 14]]\n",
      "neighbours [array([ 0, 14]), array([ 1, 15]), array([ 2, 14]), array([ 1, 13])]\n",
      "escape index [] 1\n",
      "[array([ 0, 15]), array([ 1, 16]), array([ 2, 15]), array([ 1, 14])]\n",
      "[array([ 2, 15]), array([ 1, 14])]\n",
      "len field not in area 0\n",
      "bomb area [[ 1 13]\n",
      " [ 1 12]\n",
      " [ 1 11]\n",
      " [ 1 15]\n",
      " [ 1 14]]\n",
      "neighbours [array([ 0, 14]), array([ 1, 15]), array([ 2, 14]), array([ 1, 13])]\n",
      "escape index [] 3\n",
      "[array([ 0, 13]), array([ 1, 14]), array([ 2, 13]), array([ 1, 12])]\n",
      "[array([ 1, 14]), array([ 2, 13])]\n",
      "len field not in area 0\n",
      "features [2, 0, -1, 2, -1, 1] \n",
      "\n",
      "events ['MOVED_DOWN', 'CRATE_DISTANCE_INCREASED']\n",
      "bomb area [[ 1 13]\n",
      " [ 1 12]\n",
      " [ 1 11]\n",
      " [ 1 15]\n",
      " [ 1 14]]\n",
      "neighbours [array([ 0, 14]), array([ 1, 15]), array([ 2, 14]), array([ 1, 13])]\n",
      "escape index [] 1\n",
      "[array([ 0, 15]), array([ 1, 16]), array([ 2, 15]), array([ 1, 14])]\n",
      "[array([ 2, 15]), array([ 1, 14])]\n",
      "len field not in area 0\n",
      "bomb area [[ 1 13]\n",
      " [ 1 12]\n",
      " [ 1 11]\n",
      " [ 1 15]\n",
      " [ 1 14]]\n",
      "neighbours [array([ 0, 14]), array([ 1, 15]), array([ 2, 14]), array([ 1, 13])]\n",
      "escape index [] 3\n",
      "[array([ 0, 13]), array([ 1, 14]), array([ 2, 13]), array([ 1, 12])]\n",
      "[array([ 1, 14]), array([ 2, 13])]\n",
      "len field not in area 0\n",
      "features [2, 0, -1, 2, -1, 1] \n",
      "\n",
      "bomb area [[ 1 13]\n",
      " [ 1 12]\n",
      " [ 1 11]\n",
      " [ 1 15]\n",
      " [ 1 14]]\n",
      "neighbours [array([ 0, 15]), array([ 1, 16]), array([ 2, 15]), array([ 1, 14])]\n",
      "escape index [2] 2\n",
      "features [2, 0, -1, -1, 1, -1] \n",
      "\n",
      "events ['MOVED_RIGHT', 'BOMB_DISTANCE_INCREASED', 'CRATE_DISTANCE_REDUCED']\n",
      "bomb area [[ 1 13]\n",
      " [ 1 12]\n",
      " [ 1 11]\n",
      " [ 1 15]\n",
      " [ 1 14]]\n",
      "neighbours [array([ 0, 15]), array([ 1, 16]), array([ 2, 15]), array([ 1, 14])]\n",
      "escape index [2] 2\n",
      "features [2, 0, -1, -1, 1, -1] \n",
      "\n",
      "features [0, 0, 2, -1, 1, -1] \n",
      "\n",
      "events ['WAITED']\n",
      "features [0, 0, 2, -1, 1, -1] \n",
      "\n",
      "features [0, 0, 2, -1, 1, -1] \n",
      "\n",
      "events ['MOVED_RIGHT', 'BOMB_EXPLODED', 'CRATE_DESTROYED', 'COIN_FOUND', 'CRATE_DISTANCE_REDUCED', 'CRATE_FOUND']\n",
      "features [0, 0, 2, -1, 1, -1] \n",
      "\n",
      "features [0, 0, 0, -1, 0, 1] \n",
      "\n",
      "events ['INVALID_ACTION']\n",
      "features [0, 0, 0, -1, 0, 1] \n",
      "\n",
      "features [0, 0, 0, -1, 0, 1] \n",
      "\n",
      "events ['INVALID_ACTION']\n",
      "features [0, 0, 0, -1, 0, 1] \n",
      "\n",
      "features [0, 1, 0, -1, 0, 1] \n",
      "\n",
      "events ['MOVED_RIGHT', 'CRATE_DISTANCE_INCREASED', 'CRATE_WITHOUT_DROPPING_BOMB']\n",
      "features [0, 1, 0, -1, 0, 1] \n",
      "\n",
      "features [0, 0, 1, -1, 0, -1] \n",
      "\n",
      "events ['MOVED_LEFT', 'CRATE_DISTANCE_REDUCED']\n",
      "features [0, 0, 1, -1, 0, -1] \n",
      "\n",
      "features [0, 1, 0, -1, 0, 1] \n",
      "\n",
      "events ['INVALID_ACTION', 'CRATE_WITHOUT_DROPPING_BOMB']\n",
      "features [0, 1, 0, -1, 0, 1] \n",
      "\n",
      "features [0, 1, 0, -1, 0, 1] \n",
      "\n",
      "events ['INVALID_ACTION', 'CRATE_WITHOUT_DROPPING_BOMB']\n",
      "features [0, 1, 0, -1, 0, 1] \n",
      "\n",
      "features [0, 1, 0, -1, 0, 1] \n",
      "\n",
      "events ['WAITED', 'CRATE_WITHOUT_DROPPING_BOMB']\n",
      "features [0, 1, 0, -1, 0, 1] \n",
      "\n",
      "features [0, 1, 0, -1, 0, 1] \n",
      "\n",
      "events ['MOVED_RIGHT', 'CRATE_DISTANCE_INCREASED', 'CRATE_WITHOUT_DROPPING_BOMB']\n",
      "features [0, 1, 0, -1, 0, 1] \n",
      "\n",
      "features [0, 0, 1, -1, 0, -1] \n",
      "\n",
      "events ['INVALID_ACTION']\n",
      "features [0, 0, 1, -1, 0, -1] \n",
      "\n",
      "features [0, 0, 1, -1, 0, -1] \n",
      "\n",
      "events ['INVALID_ACTION']\n",
      "features [0, 0, 1, -1, 0, -1] \n",
      "\n",
      "features [0, 0, 1, -1, 0, -1] \n",
      "\n",
      "events ['MOVED_RIGHT', 'CRATE_DISTANCE_INCREASED']\n",
      "features [0, 0, 1, -1, 0, -1] \n",
      "\n",
      "features [0, 0, 1, -1, 0, 0] \n",
      "\n",
      "events ['WAITED']\n",
      "features [0, 0, 1, -1, 0, 0] \n",
      "\n",
      "features [0, 0, 1, -1, 0, 0] \n",
      "\n",
      "events ['INVALID_ACTION']\n",
      "features [0, 0, 1, -1, 0, 0] \n",
      "\n",
      "features [0, 0, 1, -1, 0, 0] \n",
      "\n",
      "events ['INVALID_ACTION']\n",
      "features [0, 0, 1, -1, 0, 0] \n",
      "\n",
      "features [0, 0, 1, -1, 0, 0] \n",
      "\n",
      "events ['MOVED_UP', 'CRATE_DISTANCE_REDUCED']\n",
      "features [0, 0, 1, -1, 0, 0] \n",
      "\n",
      "features [0, 0, -1, 0, -1, 1] \n",
      "\n",
      "events ['WAITED']\n",
      "features [0, 0, -1, 0, -1, 1] \n",
      "\n",
      "features [0, 0, -1, 0, -1, 1] \n",
      "\n",
      "events ['INVALID_ACTION']\n",
      "features [0, 0, -1, 0, -1, 1] \n",
      "\n",
      "features [0, 0, -1, 0, -1, 1] \n",
      "\n",
      "events ['MOVED_DOWN', 'CRATE_DISTANCE_INCREASED']\n",
      "features [0, 0, -1, 0, -1, 1] \n",
      "\n",
      "features [0, 0, 1, -1, 0, 0] \n",
      "\n",
      "events ['INVALID_ACTION']\n",
      "features [0, 0, 1, -1, 0, 0] \n",
      "\n",
      "features [0, 0, 1, -1, 0, 0] \n",
      "\n",
      "events ['MOVED_UP', 'CRATE_DISTANCE_REDUCED']\n",
      "features [0, 0, 1, -1, 0, 0] \n",
      "\n",
      "features [0, 0, -1, 0, -1, 1] \n",
      "\n",
      "events ['MOVED_UP', 'CRATE_DISTANCE_REDUCED', 'CRATE_FOUND']\n",
      "features [0, 0, -1, 0, -1, 1] \n",
      "\n",
      "features [0, 1, 0, 0, 0, 1] \n",
      "\n",
      "events ['INVALID_ACTION', 'CRATE_WITHOUT_DROPPING_BOMB']\n",
      "features [0, 1, 0, 0, 0, 1] \n",
      "\n",
      "features [0, 1, 0, 0, 0, 1] \n",
      "\n",
      "events ['WAITED', 'CRATE_WITHOUT_DROPPING_BOMB']\n",
      "features [0, 1, 0, 0, 0, 1] \n",
      "\n",
      "features [0, 1, 0, 0, 0, 1] \n",
      "\n",
      "events ['INVALID_ACTION', 'CRATE_WITHOUT_DROPPING_BOMB']\n",
      "features [0, 1, 0, 0, 0, 1] \n",
      "\n",
      "features [0, 1, 0, 0, 0, 1] \n",
      "\n",
      "events ['INVALID_ACTION', 'CRATE_WITHOUT_DROPPING_BOMB']\n",
      "features [0, 1, 0, 0, 0, 1] \n",
      "\n",
      "features [0, 1, 0, 0, 0, 1] \n",
      "\n",
      "events ['BOMB_DROPPED', 'OPPONENT_ELIMINATED', 'BOMB_DROPPED_NEXT_TO_CRATE']\n",
      "features [0, 1, 0, 0, 0, 1] \n",
      "\n",
      "bomb area [[ 4 13]\n",
      " [ 3 13]\n",
      " [ 2 13]\n",
      " [ 6 13]\n",
      " [ 7 13]\n",
      " [ 8 13]\n",
      " [ 5 12]\n",
      " [ 5 11]\n",
      " [ 5 10]\n",
      " [ 5 14]\n",
      " [ 5 15]\n",
      " [ 5 13]]\n",
      "neighbours [array([ 4, 13]), array([ 5, 14]), array([ 6, 13]), array([ 5, 12])]\n",
      "escape index [] 0\n",
      "[array([ 3, 13]), array([ 4, 14]), array([ 5, 13]), array([ 4, 12])]\n",
      "[array([ 3, 13]), array([ 5, 13])]\n",
      "len field not in area 0\n",
      "features [2, 0, 1, 2, 2, -1] \n",
      "\n",
      "events ['INVALID_ACTION']\n",
      "bomb area [[ 4 13]\n",
      " [ 3 13]\n",
      " [ 2 13]\n",
      " [ 6 13]\n",
      " [ 7 13]\n",
      " [ 8 13]\n",
      " [ 5 12]\n",
      " [ 5 11]\n",
      " [ 5 10]\n",
      " [ 5 14]\n",
      " [ 5 15]\n",
      " [ 5 13]]\n",
      "neighbours [array([ 4, 13]), array([ 5, 14]), array([ 6, 13]), array([ 5, 12])]\n",
      "escape index [] 0\n",
      "[array([ 3, 13]), array([ 4, 14]), array([ 5, 13]), array([ 4, 12])]\n",
      "[array([ 3, 13]), array([ 5, 13])]\n",
      "len field not in area 0\n",
      "features [2, 0, 1, 2, 2, -1] \n",
      "\n",
      "bomb area [[ 4 13]\n",
      " [ 3 13]\n",
      " [ 2 13]\n",
      " [ 6 13]\n",
      " [ 7 13]\n",
      " [ 8 13]\n",
      " [ 5 12]\n",
      " [ 5 11]\n",
      " [ 5 10]\n",
      " [ 5 14]\n",
      " [ 5 15]\n",
      " [ 5 13]]\n",
      "neighbours [array([ 4, 13]), array([ 5, 14]), array([ 6, 13]), array([ 5, 12])]\n",
      "escape index [] 0\n",
      "[array([ 3, 13]), array([ 4, 14]), array([ 5, 13]), array([ 4, 12])]\n",
      "[array([ 3, 13]), array([ 5, 13])]\n",
      "len field not in area 0\n",
      "features [2, 0, 1, 2, 2, -1] \n",
      "\n",
      "events ['MOVED_RIGHT', 'GET_TRAPPED', 'CRATE_FOUND']\n",
      "bomb area [[ 4 13]\n",
      " [ 3 13]\n",
      " [ 2 13]\n",
      " [ 6 13]\n",
      " [ 7 13]\n",
      " [ 8 13]\n",
      " [ 5 12]\n",
      " [ 5 11]\n",
      " [ 5 10]\n",
      " [ 5 14]\n",
      " [ 5 15]\n",
      " [ 5 13]]\n",
      "neighbours [array([ 4, 13]), array([ 5, 14]), array([ 6, 13]), array([ 5, 12])]\n",
      "escape index [] 0\n",
      "[array([ 3, 13]), array([ 4, 14]), array([ 5, 13]), array([ 4, 12])]\n",
      "[array([ 3, 13]), array([ 5, 13])]\n",
      "len field not in area 0\n",
      "features [2, 0, 1, 2, 2, -1] \n",
      "\n",
      "features [2, 0, -1, -1, -1, -1] \n",
      "\n",
      "events ['INVALID_ACTION']\n",
      "features [2, 0, -1, -1, -1, -1] \n",
      "\n",
      "features [2, 0, -1, -1, -1, -1] \n",
      "\n",
      "End : ['INVALID_ACTION', 'BOMB_EXPLODED', 'CRATE_DESTROYED', 'COIN_FOUND', 'CRATE_DESTROYED', 'COIN_FOUND', 'CRATE_DESTROYED', 'COIN_FOUND', 'KILLED_SELF', 'GOT_KILLED']\n",
      "features [2, 0, -1, -1, -1, -1] \n",
      "\n",
      "[-10.   0.   0.   0.   0.   0.] 0.0\n",
      "[-10.    0.    0.  -44.5   0.    0. ] -44.5\n",
      "  5%|██                                       | 1/20 [06:27<2:02:39, 387.37s/it]events ['MOVED_LEFT', 'CRATE_DISTANCE_REDUCED']\n",
      "features [0, 0, 1, -1, -1, 0] \n",
      "\n",
      "features [0, 0, 1, -1, 0, -1] \n",
      "\n",
      "  5%|██                                       | 1/20 [06:31<2:04:00, 391.63s/it]\n"
     ]
    }
   ],
   "source": [
    "!python3 main.py play --agents q_agent rule_based_agent rule_based_agent rule_based_agent --train 1 --scenario clean --n-rounds 20 --turn-based"
   ]
  },
  {
   "cell_type": "code",
   "execution_count": 118,
   "id": "0adeae7b",
   "metadata": {},
   "outputs": [
    {
     "name": "stdout",
     "output_type": "stream",
     "text": [
      "[[3 3]\n",
      " [3 2]\n",
      " [3 1]\n",
      " [3 5]\n",
      " [3 6]\n",
      " [3 7]]\n",
      "[1]\n"
     ]
    }
   ],
   "source": [
    "bomb_area = np.array([[3, 3], [3, 2], [3, 1], [3, 5], [3, 6], [3, 7]])\n",
    "print(bomb_area)\n",
    "n = [np.array([2, 5]), np.array([3, 6]),np.array([4, 5]),np.array([3, 4])]\n",
    "print(np.where([n_.tolist() in bomb_area.tolist() for n_ in n])[0])"
   ]
  },
  {
   "cell_type": "code",
   "execution_count": 59,
   "id": "4310b6e0",
   "metadata": {},
   "outputs": [],
   "source": [
    "#--my-agents --save-replay --turn-based --save-stats"
   ]
  },
  {
   "cell_type": "code",
   "execution_count": null,
   "id": "b2b5ae27",
   "metadata": {},
   "outputs": [],
   "source": [
    "!python main.py replay \"replays/Round 07 (2022-03-23 12-52-13).pt\" --turn-based"
   ]
  },
  {
   "cell_type": "code",
   "execution_count": null,
   "id": "c4e82142",
   "metadata": {},
   "outputs": [],
   "source": [
    "reward = np.load(\"agent_code/q_agent/rewards.npy\")\n",
    "plt.plot(reward,'.')\n",
    "plt.xlabel(\"rounds\")\n",
    "plt.ylabel(\"reward\")\n",
    "#plt.ylim(-100,100)"
   ]
  },
  {
   "cell_type": "code",
   "execution_count": null,
   "id": "8e83589a",
   "metadata": {},
   "outputs": [],
   "source": [
    "model_trained = np.load(\"agent_code/q_agent/my-saved-model.npy\")"
   ]
  },
  {
   "cell_type": "code",
   "execution_count": null,
   "id": "1cdd017d",
   "metadata": {},
   "outputs": [],
   "source": []
  },
  {
   "cell_type": "code",
   "execution_count": 17,
   "id": "7bf5261d",
   "metadata": {},
   "outputs": [
    {
     "name": "stdout",
     "output_type": "stream",
     "text": [
      "[array([ 0,  0,  1, -1,  1, -1]), array([ 0,  1, -1,  1, -1,  0]), array([ 1, -1,  1, -1,  0,  0]), array([-1,  1, -1,  0,  0,  1])]\n",
      "(-1, 1, -1, 1) 0\n",
      "(400, 1)\n"
     ]
    }
   ],
   "source": [
    "import itertools\n",
    "import numpy as np\n",
    "\n",
    "v = [0,0, 1, -1,  1, -1]\n",
    "\n",
    "NEIGHBOURING_FIELDS = [-1,0,1,2] # the possible values for neighbouring fields\n",
    "GAME_MODE = [0,1,2,3] # the possible values for game mode\n",
    "CURRENT_FIELD = [0,1,2,3] # the possible values for current filed\n",
    "dic = {}\n",
    "\n",
    "def get_arrangements(array):\n",
    "    return [ np.roll(array, -i) for i in range(0,4) ]\n",
    "\n",
    "# get all possible combinations\n",
    "def get_variations(array, r=4):\n",
    "    return [ item for item in list(itertools.product(array, repeat=r)) ]\n",
    "\n",
    "# compute state to index for the Q-table\n",
    "def build_state_to_index(arr1 = NEIGHBOURING_FIELDS, arr2 = GAME_MODE, arr3 = CURRENT_FIELD):\n",
    "    i = 0\n",
    "    perm = get_variations(arr1)\n",
    "    comb = np.array(np.meshgrid(arr2, arr3)).T.reshape(-1,2) # combinations of arr2 and arr3\n",
    "    step = len(comb)\n",
    "    for p in perm:\n",
    "        already_there = []\n",
    "        arrangements = get_arrangements(p)\n",
    "        for a in arrangements:\n",
    "            if tuple(a) in dic.keys():\n",
    "                already_there.append(True)\n",
    "            else:\n",
    "                already_there.append(False)\n",
    "        if sum(already_there) == 0: # p not in dictionary\n",
    "            value = [v for v in range(i, i+step)] # value indices for p\n",
    "            i += step # update i\n",
    "            dic.update({tuple(p) : value}) # add in dictionary\n",
    "\n",
    "# give corresponding index and rotation from keys\n",
    "def get_state_index(state):\n",
    "    arrangements = get_arrangements(state[-4:]) # rotations of neighbouring fields\n",
    "    mode_and_field = state[:2]\n",
    "    value_index = 0\n",
    "    comb = np.array(np.meshgrid(GAME_MODE, CURRENT_FIELD)).T.reshape(-1,2)\n",
    "    for i, c in enumerate(comb):\n",
    "        if (c == mode_and_field).all():\n",
    "            value_index = i\n",
    "            break\n",
    "    for j, a in enumerate(arrangements):\n",
    "        if tuple(a) in dic.keys():\n",
    "            print(tuple(a), value_index)\n",
    "            return dic[tuple(a)][value_index], j\n",
    "    assert True == 0, state\n",
    "            \n",
    "build_state_to_index()\n",
    "print(get_arrangements(v))\n",
    "print(get_state_index(v))"
   ]
  },
  {
   "cell_type": "code",
   "execution_count": null,
   "id": "81ffd54e",
   "metadata": {},
   "outputs": [],
   "source": []
  },
  {
   "cell_type": "code",
   "execution_count": 8,
   "id": "99075176",
   "metadata": {},
   "outputs": [],
   "source": [
    "import numpy as np\n",
    "import random\n"
   ]
  },
  {
   "cell_type": "code",
   "execution_count": 35,
   "id": "73b96ffd",
   "metadata": {},
   "outputs": [
    {
     "name": "stdout",
     "output_type": "stream",
     "text": [
      "[1.41421356 1.         2.         1.         1.         0.        ]\n",
      "(array([5]),)\n",
      "2.8284271247461903\n"
     ]
    }
   ],
   "source": [
    "def dist(pos, objects):\n",
    "    return np.sqrt( np.power(np.subtract(objects, pos).transpose()[0], 2) + np.power(np.subtract(objects, pos).transpose()[1], 2) )\n",
    "\n",
    "p = (1,1)\n",
    "k = [[0,2], [1,2], [1,3], [2,1], [2,1], [1,1]]\n",
    "\n",
    "distances = np.array(dist(p,k))\n",
    "print(distances)\n",
    "print(np.where(distances == min(distances)))\n",
    "\n",
    "print(dist((1,15), (3,13)))"
   ]
  },
  {
   "cell_type": "code",
   "execution_count": 36,
   "id": "7b821252",
   "metadata": {},
   "outputs": [
    {
     "name": "stdout",
     "output_type": "stream",
     "text": [
      "[array([1, 2]), array([2, 1]), array([3, 1]), array([1, 0])]\n",
      "[array([1, 2]), array([2, 1]), array([3, 1]), array([1, 0]), array([0, 0])]\n",
      "[1 2]\n",
      "[array([1, 2]), array([2, 1]), array([3, 1]), array([1, 0]), array([0, 0]), array([1, 2])]\n"
     ]
    }
   ],
   "source": [
    "pos = (0,0)\n",
    "def get_neighbours(pos):\n",
    "    sub = [(0,-1), (-1,0), (-2,0), (0,1)] # left, down, right, up\n",
    "\n",
    "    neighbours = []\n",
    "    for i in sub:\n",
    "        neighbour = np.subtract(pos, i)\n",
    "        if (0 <= neighbour[0] < 17) and (0 <= neighbour[1] < 17): # check if in game borders\n",
    "            neighbours.append(neighbour)\n",
    "    return neighbours\n",
    "\n",
    "neigh = get_neighbours((1,1))\n",
    "print(neigh)\n",
    "neigh.append(np.array(pos))\n",
    "print(neigh)\n",
    "\n",
    "a = neigh[0]\n",
    "print(a)\n",
    "b = (a[0], a[1])\n",
    "b = np.array(b)\n",
    "neigh.append(b)\n",
    "print(neigh)"
   ]
  },
  {
   "cell_type": "code",
   "execution_count": 27,
   "id": "13c214f1",
   "metadata": {},
   "outputs": [
    {
     "name": "stdout",
     "output_type": "stream",
     "text": [
      "[1, 3] [1 5]\n",
      "[1, 4] [1 5]\n",
      "[1, 5] [1 5]\n",
      "[1, 5] [1 5]\n",
      "2\n"
     ]
    }
   ],
   "source": [
    "pos = np.array((1,5))\n",
    "area = [[1, 3], [1, 4], [1, 5], [1, 2]]\n",
    "i = -1\n",
    "for a in area:\n",
    "    print(a, pos)\n",
    "    i += 1\n",
    "    if ((a == pos).all()):\n",
    "        print(a, pos)\n",
    "        break\n",
    "print(i)"
   ]
  },
  {
   "cell_type": "code",
   "execution_count": 22,
   "id": "a7aec85b",
   "metadata": {},
   "outputs": [
    {
     "name": "stdout",
     "output_type": "stream",
     "text": [
      "True\n",
      "True\n",
      "False\n"
     ]
    }
   ],
   "source": [
    "pos = (1,2)\n",
    "pos1 = (1,2)\n",
    "a = [1,2]\n",
    "b = ((1,3), (1,2), (2,2))\n",
    "c = any([(pos==b_) for b_ in b])\n",
    "\n",
    "print(c)\n",
    "print(pos!=b[2])\n",
    "print(pos!=pos1)"
   ]
  },
  {
   "cell_type": "code",
   "execution_count": 23,
   "id": "23409852",
   "metadata": {},
   "outputs": [],
   "source": [
    "mask = [[0]]\n",
    "n = [[0,1],[1,2],[2,1],[1,0]]\n"
   ]
  },
  {
   "cell_type": "code",
   "execution_count": 24,
   "id": "e75b15fd",
   "metadata": {},
   "outputs": [
    {
     "name": "stdout",
     "output_type": "stream",
     "text": [
      "[[0, 1], [1, 2], [2, 1], [1, 0], [1, 2]]\n"
     ]
    }
   ],
   "source": [
    "n.append([pos[0], pos[1]])\n",
    "print(n)"
   ]
  },
  {
   "cell_type": "code",
   "execution_count": 49,
   "id": "f2ce98ce",
   "metadata": {},
   "outputs": [
    {
     "name": "stdout",
     "output_type": "stream",
     "text": [
      "1\n",
      "[1 1]\n",
      "True\n"
     ]
    }
   ],
   "source": [
    "a = np.array([5,6,3,2,1,1])\n",
    "print(min(a))\n",
    "i = np.where(a==min(a))\n",
    "print(a[i])\n",
    "print(1 in a[i])"
   ]
  },
  {
   "cell_type": "code",
   "execution_count": 62,
   "id": "83144a78",
   "metadata": {},
   "outputs": [
    {
     "name": "stdout",
     "output_type": "stream",
     "text": [
      "[[1 4]\n",
      " [3 6]]\n"
     ]
    }
   ],
   "source": [
    "A = np.array([[1, 4], [2, 5], [3, 6]])\n",
    "B = np.array([[1, 4], [3, 6], [7, 8]])\n",
    "aset = set([tuple(x) for x in A])\n",
    "bset = set([tuple(x) for x in B])\n",
    "intersection = np.array([x for x in aset & bset])\n",
    "print(intersection)"
   ]
  },
  {
   "cell_type": "code",
   "execution_count": 68,
   "id": "145197dc",
   "metadata": {},
   "outputs": [
    {
     "name": "stdout",
     "output_type": "stream",
     "text": [
      "[(14, 3), (23, 41)]\n"
     ]
    }
   ],
   "source": [
    "list1 = [(14, 3),(23, 41),(33, 62),(1, 3),(3, 3)]\n",
    "list2 = [(14, 3),(23, 41),(34, 62),(2, 3),(5, 5)]\n",
    "list3 = [item for item in list1 if item in list2]\n",
    "print(list3)"
   ]
  },
  {
   "cell_type": "code",
   "execution_count": 150,
   "id": "19f4f3d1",
   "metadata": {},
   "outputs": [
    {
     "name": "stdout",
     "output_type": "stream",
     "text": [
      "[[0 1]\n",
      " [1 0]\n",
      " [0 0]\n",
      " [1 1]]\n",
      "1.8483715e-316\n"
     ]
    }
   ],
   "source": [
    "a = np.array([1, 3, 1, 7])\n",
    "c = np.array([[0,1],[1,0],[0,0],[1,1]])\n",
    "b = np.where(a!=1)\n",
    "print(c)\n",
    "d = [[0,1], [1,0], [0,0]]\n",
    "\n",
    "k = np.where([d_ not in c for d_ in d])[0]\n",
    "print(np.empty(k))"
   ]
  },
  {
   "cell_type": "code",
   "execution_count": 7,
   "id": "d1566ad1",
   "metadata": {},
   "outputs": [
    {
     "name": "stdout",
     "output_type": "stream",
     "text": [
      "False\n",
      "True\n"
     ]
    }
   ],
   "source": [
    "a = (1,1)\n",
    "b = (1,1)\n",
    "print(a!=b)\n",
    "\n",
    "print(5 in [5])"
   ]
  },
  {
   "cell_type": "code",
   "execution_count": 12,
   "id": "11c07d5f",
   "metadata": {},
   "outputs": [
    {
     "name": "stdout",
     "output_type": "stream",
     "text": [
      "10 7\n",
      "[ 1 -2]\n"
     ]
    }
   ],
   "source": [
    "x = 10\n",
    "if x > 10:\n",
    "    y = 5\n",
    "if x < 10:\n",
    "    z = 6\n",
    "if x == 10:\n",
    "    k = 7\n",
    "    \n",
    "print(x,k)\n",
    "\n",
    "print(np.subtract((6,3),(5,5)))"
   ]
  },
  {
   "cell_type": "code",
   "execution_count": 68,
   "id": "1fe8dfd8",
   "metadata": {},
   "outputs": [
    {
     "name": "stdout",
     "output_type": "stream",
     "text": [
      "year: 2022\n",
      "month: 03\n",
      "day: 23\n",
      "time: 18:59:01\n",
      "date and time: 18_59_01\n"
     ]
    }
   ],
   "source": [
    "from datetime import datetime\n",
    "\n",
    "now = datetime.now() # current date and time\n",
    "\n",
    "year = now.strftime(\"%Y\")\n",
    "print(\"year:\", year)\n",
    "\n",
    "month = now.strftime(\"%m\")\n",
    "print(\"month:\", month)\n",
    "\n",
    "day = now.strftime(\"%d\")\n",
    "print(\"day:\", day)\n",
    "\n",
    "time = now.strftime(\"%H:%M:%S\")\n",
    "print(\"time:\", time)\n",
    "\n",
    "date_time = now.strftime(\"%H_%M_%S\")\n",
    "print(\"date and time:\",date_time)"
   ]
  },
  {
   "cell_type": "code",
   "execution_count": null,
   "id": "8d15d032",
   "metadata": {},
   "outputs": [],
   "source": [
    "import time\n",
    "start = time.time()\n",
    "\n",
    "time.sleep(5)\n",
    "end  = time.time()\n",
    "print(end-start)"
   ]
  }
 ],
 "metadata": {
  "kernelspec": {
   "display_name": "Python 3 (ipykernel)",
   "language": "python",
   "name": "python3"
  },
  "language_info": {
   "codemirror_mode": {
    "name": "ipython",
    "version": 3
   },
   "file_extension": ".py",
   "mimetype": "text/x-python",
   "name": "python",
   "nbconvert_exporter": "python",
   "pygments_lexer": "ipython3",
   "version": "3.8.10"
  }
 },
 "nbformat": 4,
 "nbformat_minor": 5
}
