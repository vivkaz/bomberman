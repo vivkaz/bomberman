{
 "cells": [
  {
   "cell_type": "code",
   "execution_count": 2,
   "id": "ca1fdeb0",
   "metadata": {},
   "outputs": [
    {
     "name": "stdout",
     "output_type": "stream",
     "text": [
      "WARNING:tensorflow:Compiled the loaded model, but the compiled metrics have yet to be built. `model.compile_metrics` will be empty until you train or evaluate the model.\n",
      "INFO:tensorflow:Assets written to: initialize_model\\assets\n",
      "Model: \"sequential\"\n",
      "_________________________________________________________________\n",
      "Layer (type)                 Output Shape              Param #   \n",
      "=================================================================\n",
      "conv2d (Conv2D)              (None, 5, 5, 20)          380       \n",
      "_________________________________________________________________\n",
      "max_pooling2d (MaxPooling2D) (None, 2, 2, 20)          0         \n",
      "_________________________________________________________________\n",
      "conv2d_1 (Conv2D)            (None, 2, 2, 20)          3620      \n",
      "_________________________________________________________________\n",
      "max_pooling2d_1 (MaxPooling2 (None, 1, 1, 20)          0         \n",
      "_________________________________________________________________\n",
      "flatten (Flatten)            (None, 20)                0         \n",
      "_________________________________________________________________\n",
      "dense (Dense)                (None, 30)                630       \n",
      "_________________________________________________________________\n",
      "dense_1 (Dense)              (None, 10)                310       \n",
      "_________________________________________________________________\n",
      "dense_2 (Dense)              (None, 5)                 55        \n",
      "=================================================================\n",
      "Total params: 4,995\n",
      "Trainable params: 4,995\n",
      "Non-trainable params: 0\n",
      "_________________________________________________________________\n"
     ]
    }
   ],
   "source": [
    "import tensorflow as tf\n",
    "import sys\n",
    "sys.path.append(\"...\")\n",
    "import events.py as e\n",
    "\n",
    "n_outputs = 5\n",
    "inputs_shape = (5, 5, 2)\n",
    "model = tf.keras.models.Sequential([\n",
    "    tf.keras.layers.Conv2D(20, 3, activation=\"elu\", padding='same', input_shape=inputs_shape),\n",
    "    tf.keras.layers.MaxPooling2D(2),\n",
    "    tf.keras.layers.Conv2D(20, 3, activation=\"elu\", padding='same'),\n",
    "    tf.keras.layers.MaxPooling2D(2),\n",
    "    tf.keras.layers.Flatten(),\n",
    "    tf.keras.layers.Dense(30, activation=\"relu\"),\n",
    "    tf.keras.layers.Dense(10, activation=\"relu\"),\n",
    "    tf.keras.layers.Dense(n_outputs, activation=\"softmax\")\n",
    "\n",
    "])\n",
    "model.save(\"initialize_model\")\n",
    "model.summary()\n",
    "\n",
    "#Hyperparameter\n",
    "Hyperparameter = {\n",
    "\"epsilon_scale\" : 500,\n",
    "\"learning_rate\" : 1e-2,\n",
    "\"batch_size\" : 50,\n",
    "\"steps\" : 100,\n",
    "\"discount_factor\" : 0.9,\n",
    "\"rewards\" : {\n",
    "        e.INVALID_ACTION: -10,\n",
    "        e.MOVED_UP:-2,\n",
    "        e.MOVED_DOWN: -2,\n",
    "        e.MOVED_LEFT: -2,\n",
    "        e.WAITED: -5,\n",
    "        e.MOVED_RIGHT: -2,\n",
    "        e.COIN_COLLECTED: 30,\n",
    "        e.COIN_DISTANCE_REDUCED: 10,\n",
    "        e.COIN_DISTANCE_INCREASED: -5,\n",
    "        e.RUN_IN_LOOP:-20\n",
    "      #e.BOMB_AVOIDED : 1\n",
    "}\n",
    "}\n"
   ]
  },
  {
   "cell_type": "code",
   "execution_count": null,
   "id": "cc2a5826",
   "metadata": {},
   "outputs": [],
   "source": []
  }
 ],
 "metadata": {
  "kernelspec": {
   "display_name": "Python 3",
   "language": "python",
   "name": "python3"
  },
  "language_info": {
   "codemirror_mode": {
    "name": "ipython",
    "version": 3
   },
   "file_extension": ".py",
   "mimetype": "text/x-python",
   "name": "python",
   "nbconvert_exporter": "python",
   "pygments_lexer": "ipython3",
   "version": "3.8.8"
  }
 },
 "nbformat": 4,
 "nbformat_minor": 5
}
