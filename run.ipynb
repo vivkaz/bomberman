{
 "cells": [
  {
   "cell_type": "code",
   "execution_count": 155,
   "id": "187b3b50",
   "metadata": {},
   "outputs": [
    {
     "name": "stdout",
     "output_type": "stream",
     "text": [
      "size of dictionary: 70\n",
      "  0%|                                                    | 0/10 [00:00<?, ?it/s]/home/vivi/uni/bomberman/agent_code/q_agent/callbacks.py:184: VisibleDeprecationWarning: Creating an ndarray from ragged nested sequences (which is a list-or-tuple of lists-or-tuples-or ndarrays with different lengths or shapes) is deprecated. If you meant to do this, you must specify 'dtype=object' when creating the ndarray.\n",
      "  if (neighbours[j] == game_state['bombs'][0]).all():\n",
      " 10%|████▍                                       | 1/10 [00:05<00:48,  5.39s/it]\n"
     ]
    }
   ],
   "source": [
    "!python3 main.py play --agents q_agent random_agent rule_based_agent --train 1 --scenario clean --n-rounds 10 --turn-based"
   ]
  },
  {
   "cell_type": "code",
   "execution_count": null,
   "id": "0adeae7b",
   "metadata": {},
   "outputs": [],
   "source": []
  },
  {
   "cell_type": "code",
   "execution_count": 26,
   "id": "dda16b42",
   "metadata": {},
   "outputs": [
    {
     "name": "stdout",
     "output_type": "stream",
     "text": [
      "size of dictionary: 70\n",
      "nonzero rows: 67\n",
      "size of dictionary: 70\n",
      "nonzero rows: 67\n",
      "  0%|                                                     | 0/5 [00:00<?, ?it/s]/home/vivi/uni/bomberman/agent_code/q_agent/callbacks.py:184: VisibleDeprecationWarning: Creating an ndarray from ragged nested sequences (which is a list-or-tuple of lists-or-tuples-or ndarrays with different lengths or shapes) is deprecated. If you meant to do this, you must specify 'dtype=object' when creating the ndarray.\n",
      "  if (neighbours[j] == game_state['bombs'][0]).all():\n",
      "100%|█████████████████████████████████████████████| 5/5 [00:47<00:00,  9.42s/it]\n"
     ]
    }
   ],
   "source": [
    "!python3 main.py play --agents q_agent q_agent random_agent rule_based_agent --scenario coin-heaven --n-rounds 5"
   ]
  },
  {
   "cell_type": "code",
   "execution_count": 38,
   "id": "4310b6e0",
   "metadata": {},
   "outputs": [],
   "source": [
    "#--my-agents --save-replay --turn-based --save-stats"
   ]
  },
  {
   "cell_type": "code",
   "execution_count": null,
   "id": "b2b5ae27",
   "metadata": {},
   "outputs": [],
   "source": [
    "!python main.py replay \"replays/Round 07 (2022-03-23 12-52-13).pt\" --turn-based"
   ]
  },
  {
   "cell_type": "code",
   "execution_count": null,
   "id": "c4e82142",
   "metadata": {},
   "outputs": [],
   "source": [
    "reward = np.load(\"agent_code/q_agent/rewards.npy\")\n",
    "plt.plot(reward,'.')\n",
    "plt.xlabel(\"rounds\")\n",
    "plt.ylabel(\"reward\")\n",
    "#plt.ylim(-100,100)"
   ]
  },
  {
   "cell_type": "code",
   "execution_count": null,
   "id": "8e83589a",
   "metadata": {},
   "outputs": [],
   "source": [
    "model_trained = np.load(\"agent_code/q_agent/my-saved-model.npy\")"
   ]
  },
  {
   "cell_type": "code",
   "execution_count": 2,
   "id": "99075176",
   "metadata": {},
   "outputs": [],
   "source": [
    "import numpy as np\n",
    "import random\n"
   ]
  },
  {
   "cell_type": "code",
   "execution_count": 33,
   "id": "73b96ffd",
   "metadata": {},
   "outputs": [
    {
     "name": "stdout",
     "output_type": "stream",
     "text": [
      "[1.41421356 1.         2.         1.        ]\n"
     ]
    }
   ],
   "source": [
    "def dist(pos, objects):\n",
    "    return np.sqrt( np.power(np.subtract(objects, pos).transpose()[0], 2) + np.power(np.subtract(objects, pos).transpose()[1], 2) )\n",
    "\n",
    "p = (1,1)\n",
    "k = [[0,2],[1,2], [1,3], [2,1]]\n",
    "print(dist(p,k))"
   ]
  },
  {
   "cell_type": "code",
   "execution_count": 37,
   "id": "7b821252",
   "metadata": {},
   "outputs": [
    {
     "name": "stdout",
     "output_type": "stream",
     "text": [
      "([array([1, 2]), array([2, 1]), array([3, 1]), array([1, 0])], (1, 1))\n"
     ]
    }
   ],
   "source": [
    "def get_neighbours(pos):\n",
    "    sub = [(0,-1), (-1,0), (-2,0), (0,1)] # left, down, right, up\n",
    "\n",
    "    neighbours = []\n",
    "    for i in sub:\n",
    "        neighbour = np.subtract(pos, i)\n",
    "        if (0 <= neighbour[0] < 17) and (0 <= neighbour[1] < 17): # check if in game borders\n",
    "            neighbours.append(neighbour)\n",
    "    return neighbours, pos\n",
    "\n",
    "print(get_neighbours((1,1)))"
   ]
  },
  {
   "cell_type": "code",
   "execution_count": 27,
   "id": "13c214f1",
   "metadata": {},
   "outputs": [
    {
     "name": "stdout",
     "output_type": "stream",
     "text": [
      "[1, 3] [1 5]\n",
      "[1, 4] [1 5]\n",
      "[1, 5] [1 5]\n",
      "[1, 5] [1 5]\n",
      "2\n"
     ]
    }
   ],
   "source": [
    "pos = np.array((1,5))\n",
    "area = [[1, 3], [1, 4], [1, 5], [1, 2]]\n",
    "i = -1\n",
    "for a in area:\n",
    "    print(a, pos)\n",
    "    i += 1\n",
    "    if ((a == pos).all()):\n",
    "        print(a, pos)\n",
    "        break\n",
    "print(i)"
   ]
  },
  {
   "cell_type": "code",
   "execution_count": 20,
   "id": "a7aec85b",
   "metadata": {},
   "outputs": [
    {
     "name": "stdout",
     "output_type": "stream",
     "text": [
      "True\n",
      "True\n"
     ]
    }
   ],
   "source": [
    "pos = (1,2)\n",
    "a = [1,2]\n",
    "b = ((1,3), (1,2), (2,2))\n",
    "c = any([(pos==b_) for b_ in b])\n",
    "\n",
    "print(c)\n",
    "print(pos!=b[2])"
   ]
  },
  {
   "cell_type": "code",
   "execution_count": 98,
   "id": "23409852",
   "metadata": {},
   "outputs": [
    {
     "name": "stdout",
     "output_type": "stream",
     "text": [
      "True\n"
     ]
    }
   ],
   "source": [
    "a = np.array([[0, 1, 2],\n",
    "\n",
    "              [0, 2, 1],\n",
    "\n",
    "              [1, 3, 6]])\n",
    "\n",
    "b = np.where(a == 1)\n",
    "\n",
    "c = np.array([b[0],b[1]]).transpose()\n",
    "\n",
    "n = [1,1],[]\n",
    "\n",
    "print([1,2] in c)"
   ]
  },
  {
   "cell_type": "code",
   "execution_count": 150,
   "id": "19f4f3d1",
   "metadata": {},
   "outputs": [
    {
     "name": "stdout",
     "output_type": "stream",
     "text": [
      "[[0 1]\n",
      " [1 0]\n",
      " [0 0]\n",
      " [1 1]]\n",
      "1.8483715e-316\n"
     ]
    }
   ],
   "source": [
    "a = np.array([1, 3, 1, 7])\n",
    "c = np.array([[0,1],[1,0],[0,0],[1,1]])\n",
    "b = np.where(a!=1)\n",
    "print(c)\n",
    "d = [[0,1], [1,0], [0,0]]\n",
    "\n",
    "k = np.where([d_ not in c for d_ in d])[0]\n",
    "print(np.empty(k))"
   ]
  },
  {
   "cell_type": "code",
   "execution_count": 68,
   "id": "1fe8dfd8",
   "metadata": {},
   "outputs": [
    {
     "name": "stdout",
     "output_type": "stream",
     "text": [
      "year: 2022\n",
      "month: 03\n",
      "day: 23\n",
      "time: 18:59:01\n",
      "date and time: 18_59_01\n"
     ]
    }
   ],
   "source": [
    "from datetime import datetime\n",
    "\n",
    "now = datetime.now() # current date and time\n",
    "\n",
    "year = now.strftime(\"%Y\")\n",
    "print(\"year:\", year)\n",
    "\n",
    "month = now.strftime(\"%m\")\n",
    "print(\"month:\", month)\n",
    "\n",
    "day = now.strftime(\"%d\")\n",
    "print(\"day:\", day)\n",
    "\n",
    "time = now.strftime(\"%H:%M:%S\")\n",
    "print(\"time:\", time)\n",
    "\n",
    "date_time = now.strftime(\"%H_%M_%S\")\n",
    "print(\"date and time:\",date_time)"
   ]
  },
  {
   "cell_type": "code",
   "execution_count": null,
   "id": "8d15d032",
   "metadata": {},
   "outputs": [],
   "source": [
    "import time\n",
    "start = time.time()\n",
    "\n",
    "time.sleep(5)\n",
    "end  = time.time()\n",
    "print(end-start)"
   ]
  }
 ],
 "metadata": {
  "kernelspec": {
   "display_name": "Python 3 (ipykernel)",
   "language": "python",
   "name": "python3"
  },
  "language_info": {
   "codemirror_mode": {
    "name": "ipython",
    "version": 3
   },
   "file_extension": ".py",
   "mimetype": "text/x-python",
   "name": "python",
   "nbconvert_exporter": "python",
   "pygments_lexer": "ipython3",
   "version": "3.8.10"
  }
 },
 "nbformat": 4,
 "nbformat_minor": 5
}
