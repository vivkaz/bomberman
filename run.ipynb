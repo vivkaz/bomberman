{
 "cells": [
  {
   "cell_type": "code",
   "execution_count": 196,
   "id": "d2f17f71",
   "metadata": {},
   "outputs": [
    {
     "name": "stdout",
     "output_type": "stream",
     "text": [
      "size of dictionary: 256\n",
      "  0%|                                          | 2/2000 [00:01<26:16,  1.27it/s]/home/vivi/uni/bomberman/agent_code/q_agent/callbacks.py:232: VisibleDeprecationWarning: Creating an ndarray from ragged nested sequences (which is a list-or-tuple of lists-or-tuples-or ndarrays with different lengths or shapes) is deprecated. If you meant to do this, you must specify 'dtype=object' when creating the ndarray.\n",
      "  if (neighbours[j] == game_state['bombs'][0]).any():\n",
      "100%|███████████████████████████████████████| 2000/2000 [12:29<00:00,  2.67it/s]\n"
     ]
    }
   ],
   "source": [
    "!python main.py play --agents q_agent --train 1 --scenario coin-heaven --n-rounds 2000 --no-gui"
   ]
  },
  {
   "cell_type": "code",
   "execution_count": null,
   "id": "1e920bec",
   "metadata": {},
   "outputs": [],
   "source": [
    "!python main.py play --agents q_agent --train 1 --scenario coin-heaven --n-rounds 500 --no-gui"
   ]
  },
  {
   "cell_type": "code",
   "execution_count": 197,
   "id": "13d5e8f5",
   "metadata": {},
   "outputs": [
    {
     "name": "stdout",
     "output_type": "stream",
     "text": [
      "size of dictionary: 256\n",
      "100%|█████████████████████████████████████████████| 5/5 [00:57<00:00, 11.48s/it]\n"
     ]
    }
   ],
   "source": [
    "!python main.py play --agents q_agent --scenario coin-heaven --n-rounds 5"
   ]
  },
  {
   "cell_type": "code",
   "execution_count": 198,
   "id": "ece65581",
   "metadata": {},
   "outputs": [
    {
     "name": "stdout",
     "output_type": "stream",
     "text": [
      "size of dictionary: 256\n",
      "  0%|                                                     | 0/3 [00:04<?, ?it/s]\n"
     ]
    }
   ],
   "source": [
    "!python main.py play --agents q_agent --scenario clean --n-rounds 3"
   ]
  },
  {
   "cell_type": "code",
   "execution_count": null,
   "id": "690d2000",
   "metadata": {},
   "outputs": [],
   "source": [
    "!python main.py play --my_agent q_agent --scenario classic --save-replay "
   ]
  },
  {
   "cell_type": "code",
   "execution_count": null,
   "id": "6a5fae1d",
   "metadata": {},
   "outputs": [],
   "source": [
    "!python main.py replay \"replays/replay.pt\" --turn-based"
   ]
  },
  {
   "cell_type": "code",
   "execution_count": null,
   "id": "2145dea2",
   "metadata": {},
   "outputs": [],
   "source": [
    "reward = np.loadtxt(\"agent_code/q_agent/rewards.txt\",dtype = float)\n",
    "plt.plot(reward,'.')\n",
    "plt.xlabel(\"rounds\")\n",
    "plt.ylabel(\"reward\")\n",
    "#plt.ylim(-100,100)"
   ]
  },
  {
   "cell_type": "code",
   "execution_count": null,
   "id": "d7d9532d",
   "metadata": {},
   "outputs": [],
   "source": []
  },
  {
   "cell_type": "code",
   "execution_count": 3,
   "id": "2e8f6282",
   "metadata": {},
   "outputs": [],
   "source": [
    "import numpy as np\n",
    "import itertools"
   ]
  },
  {
   "cell_type": "code",
   "execution_count": 201,
   "id": "d88736a9",
   "metadata": {},
   "outputs": [],
   "source": [
    "model_trained = np.load(\"agent_code/q_agent/my-saved-model.npy\")"
   ]
  },
  {
   "cell_type": "code",
   "execution_count": 213,
   "id": "824b0926",
   "metadata": {},
   "outputs": [
    {
     "name": "stdout",
     "output_type": "stream",
     "text": [
      "(3072, 6)\n",
      "# nonzero rows 17\n",
      "[-16.67476975  73.67191631   6.26431054   8.93287642   3.55772609\n",
      " -19.51158913]\n",
      "[0, -1, 2, 2, -1, 2]\n",
      "8\n",
      "1\n",
      "548\n",
      "DOWN\n"
     ]
    }
   ],
   "source": [
    "dic = {}\n",
    "ACTIONS = ['UP', 'RIGHT', 'DOWN', 'LEFT', 'WAIT', 'BOMB']\n",
    "\n",
    "# rotate clockwise\n",
    "def get_arrangements(array):\n",
    "    return np.unique([ np.roll(array, -i) for i in range(0,4) ], axis=0)\n",
    "\n",
    "# get all possible combinations\n",
    "def get_variations(array, r=4):\n",
    "    return np.unique([ item for item in list(itertools.product(array, repeat=r)) ], axis=0)\n",
    "\n",
    "# compute state to index for the Q-table\n",
    "def build_state_to_index(arr1 = NEIGHBOURING_FIELDS, arr2 = GAME_MODE, arr3 = CURRENT_FIELD):\n",
    "    i = 0\n",
    "    perm = get_variations(arr1)\n",
    "    comb = np.array(np.meshgrid(arr2, arr3)).T.reshape(-1,2) # combinations of arr2 and arr3\n",
    "    step = len(comb)\n",
    "    for p in perm:\n",
    "        ar = get_arrangements(p)\n",
    "        for a in ar:\n",
    "            if tuple(a) not in dic.keys():\n",
    "                value = [v for v in range(i, i+step)]\n",
    "                i += step\n",
    "                dic.update({tuple(a) : value}) \n",
    "                \n",
    "build_state_to_index()\n",
    "\n",
    "\n",
    "print(np.shape(model_trained))\n",
    "print(f\"# nonzero rows { sum(np.apply_along_axis(np.any, axis=1, arr=model_trained)) }\")\n",
    "print(model_trained[548])\n",
    "\n",
    "state = [ 0, -1,  2,  2, -1,  2]\n",
    "print(state)\n",
    "index = -1\n",
    "rotation = -1\n",
    "temp = get_arrangements(state[1:5]) # rotations of neighbouring fields\n",
    "mode_and_field = [ state[-1], state[0] ]\n",
    "value_index = 0\n",
    "comb = np.array(np.meshgrid(GAME_MODE, CURRENT_FIELD)).T.reshape(-1,2)\n",
    "for i, c in enumerate(comb):\n",
    "    if (c == mode_and_field).all():\n",
    "        value_index = i\n",
    "        print(value_index)\n",
    "        break\n",
    "rotation = 0\n",
    "for i, t in enumerate(temp):\n",
    "    if (t == state[1:5]).all():\n",
    "        rotation = i\n",
    "        print(rotation)\n",
    "for j, a in enumerate(temp):\n",
    "    if tuple(a) in dic.keys():\n",
    "        #print(\"state: \", state, \"index\", dic[tuple(a)][value_index])\n",
    "        index = dic[tuple(a)][value_index]\n",
    "        print(index)\n",
    "        break\n",
    "        \n",
    "action = np.argmax(model_trained[index]) # Exploit learned values\n",
    "if action < 4 and rotation != 0: # move and rotated state\n",
    "    action = (action + rotation) % 4\n",
    "print(ACTIONS[action])"
   ]
  },
  {
   "cell_type": "code",
   "execution_count": 40,
   "id": "a2f495dc",
   "metadata": {},
   "outputs": [
    {
     "name": "stdout",
     "output_type": "stream",
     "text": [
      "year: 2022\n",
      "month: 03\n",
      "day: 09\n",
      "time: 14:56:48\n",
      "date and time: 14_56_48\n"
     ]
    }
   ],
   "source": [
    "from datetime import datetime\n",
    "\n",
    "now = datetime.now() \n",
    "\n",
    "year = now.strftime(\"%Y\")\n",
    "print(\"year:\", year)\n",
    "\n",
    "month = now.strftime(\"%m\")\n",
    "print(\"month:\", month)\n",
    "\n",
    "day = now.strftime(\"%d\")\n",
    "print(\"day:\", day)\n",
    "\n",
    "time = now.strftime(\"%H:%M:%S\")\n",
    "print(\"time:\", time)\n",
    "\n",
    "date_time = now.strftime(\"%H_%M_%S\")\n",
    "print(\"date and time:\",date_time)"
   ]
  },
  {
   "cell_type": "code",
   "execution_count": 55,
   "id": "50c88f8f",
   "metadata": {},
   "outputs": [
    {
     "name": "stdout",
     "output_type": "stream",
     "text": [
      "5.003371000289917\n"
     ]
    }
   ],
   "source": [
    "import time\n",
    "start = time.time()\n",
    "\n",
    "\n",
    "time.sleep(5)\n",
    "end  = time.time()\n",
    "print(end-start)"
   ]
  }
 ],
 "metadata": {
  "kernelspec": {
   "display_name": "Python 3 (ipykernel)",
   "language": "python",
   "name": "python3"
  },
  "language_info": {
   "codemirror_mode": {
    "name": "ipython",
    "version": 3
   },
   "file_extension": ".py",
   "mimetype": "text/x-python",
   "name": "python",
   "nbconvert_exporter": "python",
   "pygments_lexer": "ipython3",
   "version": "3.8.10"
  }
 },
 "nbformat": 4,
 "nbformat_minor": 5
}
