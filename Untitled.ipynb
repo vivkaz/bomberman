{
 "cells": [
  {
   "cell_type": "code",
   "execution_count": 1,
   "metadata": {},
   "outputs": [
    {
     "name": "stdout",
     "output_type": "stream",
     "text": [
      "\n",
      "     active environment : base\n",
      "    active env location : C:\\Users\\josef\\anaconda3\n",
      "            shell level : 1\n",
      "       user config file : C:\\Users\\josef\\.condarc\n",
      " populated config files : C:\\Users\\josef\\.condarc\n",
      "          conda version : 4.10.3\n",
      "    conda-build version : 3.20.5\n",
      "         python version : 3.8.5.final.0\n",
      "       virtual packages : __cuda=11.6=0\n",
      "                          __win=0=0\n",
      "                          __archspec=1=x86_64\n",
      "       base environment : C:\\Users\\josef\\anaconda3  (writable)\n",
      "      conda av data dir : C:\\Users\\josef\\anaconda3\\etc\\conda\n",
      "  conda av metadata url : None\n",
      "           channel URLs : https://repo.anaconda.com/pkgs/main/win-64\n",
      "                          https://repo.anaconda.com/pkgs/main/noarch\n",
      "                          https://repo.anaconda.com/pkgs/r/win-64\n",
      "                          https://repo.anaconda.com/pkgs/r/noarch\n",
      "                          https://repo.anaconda.com/pkgs/msys2/win-64\n",
      "                          https://repo.anaconda.com/pkgs/msys2/noarch\n",
      "          package cache : C:\\Users\\josef\\anaconda3\\pkgs\n",
      "                          C:\\Users\\josef\\.conda\\pkgs\n",
      "                          C:\\Users\\josef\\AppData\\Local\\conda\\conda\\pkgs\n",
      "       envs directories : C:\\Users\\josef\\anaconda3\\envs\n",
      "                          C:\\Users\\josef\\.conda\\envs\n",
      "                          C:\\Users\\josef\\AppData\\Local\\conda\\conda\\envs\n",
      "               platform : win-64\n",
      "             user-agent : conda/4.10.3 requests/2.24.0 CPython/3.8.5 Windows/10 Windows/10.0.19041\n",
      "          administrator : False\n",
      "             netrc file : None\n",
      "           offline mode : False\n",
      "\n"
     ]
    }
   ],
   "source": [
    "!conda info"
   ]
  },
  {
   "cell_type": "code",
   "execution_count": 2,
   "metadata": {},
   "outputs": [
    {
     "name": "stderr",
     "output_type": "stream",
     "text": [
      "2022-03-09 10:54:31.726507: I tensorflow/core/platform/cpu_feature_guard.cc:142] This TensorFlow binary is optimized with oneAPI Deep Neural Network Library (oneDNN) to use the following CPU instructions in performance-critical operations:  AVX AVX2\n",
      "To enable them in other operations, rebuild TensorFlow with the appropriate compiler flags.\n",
      "2022-03-09 10:54:33.404424: I tensorflow/core/common_runtime/gpu/gpu_device.cc:1510] Created device /job:localhost/replica:0/task:0/device:GPU:0 with 3967 MB memory:  -> device: 0, name: NVIDIA GeForce RTX 2060, pci bus id: 0000:01:00.0, compute capability: 7.5\n",
      "\n",
      "  0%|          | 0/1 [00:00<?, ?it/s]2022-03-09 10:54:34.637472: I tensorflow/compiler/mlir/mlir_graph_optimization_pass.cc:185] None of the MLIR Optimization Passes are enabled (registered 2)\n",
      "2022-03-09 10:54:35.150934: I tensorflow/stream_executor/cuda/cuda_dnn.cc:369] Loaded cuDNN version 8101\n",
      "WARNING:tensorflow:Compiled the loaded model, but the compiled metrics have yet to be built. `model.compile_metrics` will be empty until you train or evaluate the model.\n",
      "2022-03-09 10:54:36.455556: W tensorflow/python/util/util.cc:348] Sets are not currently considered sequences, but this may change in the future, so consider avoiding using them.\n",
      "\n",
      "100%|##########| 1/1 [00:03<00:00,  3.14s/it]\n",
      "100%|##########| 1/1 [00:03<00:00,  3.14s/it]\n"
     ]
    }
   ],
   "source": [
    "!python main.py play --agents feature_engineering_agent --train 1 --n-rounds 1 --no-gui --scenario coin-heaven"
   ]
  }
 ],
 "metadata": {
  "kernelspec": {
   "display_name": "Python (tf2.6)",
   "language": "python",
   "name": "tf2.6"
  },
  "language_info": {
   "codemirror_mode": {
    "name": "ipython",
    "version": 3
   },
   "file_extension": ".py",
   "mimetype": "text/x-python",
   "name": "python",
   "nbconvert_exporter": "python",
   "pygments_lexer": "ipython3",
   "version": "3.8.5"
  }
 },
 "nbformat": 4,
 "nbformat_minor": 4
}
